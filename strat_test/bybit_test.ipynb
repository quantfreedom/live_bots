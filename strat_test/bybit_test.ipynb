{
  "cells": [
    {
      "cell_type": "code",
      "execution_count": 1,
      "metadata": {},
      "outputs": [],
      "source": [
        "import numpy as np\n",
        "from my_stuff import BybitTestKeys\n",
        "from quantfreedom.exchanges.bybit_exchange.bybit import Bybit\n",
        "\n",
        "np.set_printoptions(formatter={\"float_kind\": \"{:0.1f}\".format})\n",
        "\n",
        "%load_ext autoreload\n",
        "%autoreload 2"
      ]
    },
    {
      "cell_type": "code",
      "execution_count": 2,
      "metadata": {},
      "outputs": [],
      "source": [
        "bybit_test = Bybit(\n",
        "    api_key=BybitTestKeys.api_key,\n",
        "    secret_key=BybitTestKeys.secret_key,\n",
        "    use_test_net=True\n",
        ")"
      ]
    },
    {
      "cell_type": "code",
      "execution_count": 16,
      "metadata": {},
      "outputs": [
        {
          "data": {
            "text/plain": [
              "'337783be-3f14-411e-9b4c-48146c896664'"
            ]
          },
          "execution_count": 16,
          "metadata": {},
          "output_type": "execute_result"
        }
      ],
      "source": [
        "bybit_test.create_long_hedge_mode_entry_market_order(asset_size=.001, symbol='BTCUSDT')"
      ]
    },
    {
      "cell_type": "code",
      "execution_count": 17,
      "metadata": {},
      "outputs": [
        {
          "data": {
            "text/plain": [
              "'59633b7d-acce-4a17-a6af-f0bf0a4d20ac'"
            ]
          },
          "execution_count": 17,
          "metadata": {},
          "output_type": "execute_result"
        }
      ],
      "source": [
        "bybit_test.create_long_hedge_mode_tp_limit_order(asset_size=.001, symbol='BTCUSDT',tp_price=62600)"
      ]
    },
    {
      "cell_type": "code",
      "execution_count": 18,
      "metadata": {},
      "outputs": [
        {
          "data": {
            "text/plain": [
              "'1d65b96c-71af-4520-bdb0-b1d74aad59e9'"
            ]
          },
          "execution_count": 18,
          "metadata": {},
          "output_type": "execute_result"
        }
      ],
      "source": [
        "bybit_test.create_long_hedge_mode_sl_order(asset_size=.001, symbol='BTCUSDT',trigger_price=62000)"
      ]
    },
    {
      "cell_type": "code",
      "execution_count": 25,
      "metadata": {},
      "outputs": [
        {
          "data": {
            "text/plain": [
              "[{'symbol': 'BTCUSDT',\n",
              "  'orderType': 'Market',\n",
              "  'orderLinkId': '',\n",
              "  'slLimitPrice': '0',\n",
              "  'orderId': '337783be-3f14-411e-9b4c-48146c896664',\n",
              "  'cancelType': 'UNKNOWN',\n",
              "  'avgPrice': '62165.7',\n",
              "  'stopOrderType': '',\n",
              "  'lastPriceOnCreated': '62165.5',\n",
              "  'orderStatus': 'Filled',\n",
              "  'createType': 'CreateByUser',\n",
              "  'takeProfit': '',\n",
              "  'cumExecValue': '62.1657',\n",
              "  'tpslMode': '',\n",
              "  'smpType': 'None',\n",
              "  'triggerDirection': 0,\n",
              "  'blockTradeId': '',\n",
              "  'rejectReason': 'EC_NoError',\n",
              "  'isLeverage': '',\n",
              "  'price': '62477.6',\n",
              "  'orderIv': '',\n",
              "  'createdTime': '1709479930942',\n",
              "  'tpTriggerBy': '',\n",
              "  'positionIdx': 1,\n",
              "  'timeInForce': 'IOC',\n",
              "  'leavesValue': '0',\n",
              "  'updatedTime': '1709479930945',\n",
              "  'side': 'Buy',\n",
              "  'smpGroup': 0,\n",
              "  'triggerPrice': '',\n",
              "  'tpLimitPrice': '0',\n",
              "  'cumExecFee': '0.03419114',\n",
              "  'slTriggerBy': '',\n",
              "  'leavesQty': '0',\n",
              "  'closeOnTrigger': False,\n",
              "  'placeType': '',\n",
              "  'cumExecQty': '0.001',\n",
              "  'reduceOnly': False,\n",
              "  'qty': '0.001',\n",
              "  'stopLoss': '',\n",
              "  'smpOrderId': '',\n",
              "  'triggerBy': ''}]"
            ]
          },
          "execution_count": 25,
          "metadata": {},
          "output_type": "execute_result"
        }
      ],
      "source": [
        "bybit_test.get_order_history(order_id='337783be-3f14-411e-9b4c-48146c896664')"
      ]
    },
    {
      "cell_type": "code",
      "execution_count": 24,
      "metadata": {},
      "outputs": [
        {
          "data": {
            "text/plain": [
              "[{'symbol': 'BTCUSDT',\n",
              "  'orderType': 'Market',\n",
              "  'orderLinkId': '',\n",
              "  'slLimitPrice': '0',\n",
              "  'orderId': '337783be-3f14-411e-9b4c-48146c896664',\n",
              "  'cancelType': 'UNKNOWN',\n",
              "  'avgPrice': '62165.7',\n",
              "  'stopOrderType': '',\n",
              "  'lastPriceOnCreated': '62165.5',\n",
              "  'orderStatus': 'Filled',\n",
              "  'createType': 'CreateByUser',\n",
              "  'takeProfit': '',\n",
              "  'cumExecValue': '62.1657',\n",
              "  'tpslMode': '',\n",
              "  'smpType': 'None',\n",
              "  'triggerDirection': 0,\n",
              "  'blockTradeId': '',\n",
              "  'isLeverage': '',\n",
              "  'rejectReason': 'EC_NoError',\n",
              "  'price': '62477.6',\n",
              "  'orderIv': '',\n",
              "  'createdTime': '1709479930942',\n",
              "  'tpTriggerBy': '',\n",
              "  'positionIdx': 1,\n",
              "  'timeInForce': 'IOC',\n",
              "  'leavesValue': '0',\n",
              "  'updatedTime': '1709479930945',\n",
              "  'side': 'Buy',\n",
              "  'smpGroup': 0,\n",
              "  'triggerPrice': '',\n",
              "  'tpLimitPrice': '0',\n",
              "  'cumExecFee': '0.03419114',\n",
              "  'leavesQty': '0',\n",
              "  'slTriggerBy': '',\n",
              "  'closeOnTrigger': False,\n",
              "  'placeType': '',\n",
              "  'cumExecQty': '0.001',\n",
              "  'reduceOnly': False,\n",
              "  'qty': '0.001',\n",
              "  'stopLoss': '',\n",
              "  'marketUnit': '',\n",
              "  'smpOrderId': '',\n",
              "  'triggerBy': ''}]"
            ]
          },
          "execution_count": 24,
          "metadata": {},
          "output_type": "execute_result"
        }
      ],
      "source": [
        "bybit_test.get_open_orders(order_id='337783be-3f14-411e-9b4c-48146c896664')"
      ]
    },
    {
      "cell_type": "code",
      "execution_count": 27,
      "metadata": {},
      "outputs": [
        {
          "data": {
            "text/plain": [
              "{'symbol': 'BTCUSDT',\n",
              " 'leverage': '100',\n",
              " 'autoAddMargin': 0,\n",
              " 'avgPrice': '62224',\n",
              " 'liqPrice': '61912.9',\n",
              " 'riskLimitValue': '2000000',\n",
              " 'takeProfit': '',\n",
              " 'positionValue': '62.224',\n",
              " 'isReduceOnly': False,\n",
              " 'tpslMode': 'Full',\n",
              " 'riskId': 1,\n",
              " 'trailingStop': '0',\n",
              " 'unrealisedPnl': '-0.0119',\n",
              " 'markPrice': '62212.1',\n",
              " 'adlRankIndicator': 2,\n",
              " 'cumRealisedPnl': '-0.55209311',\n",
              " 'positionMM': '0.34500097',\n",
              " 'createdTime': '0',\n",
              " 'positionIdx': 1,\n",
              " 'positionIM': '0.65612097',\n",
              " 'seq': 8971604007,\n",
              " 'updatedTime': '1709481556450',\n",
              " 'side': 'Buy',\n",
              " 'bustPrice': '',\n",
              " 'positionBalance': '0.65612097',\n",
              " 'leverageSysUpdatedTime': '',\n",
              " 'curRealisedPnl': '-0.0342232',\n",
              " 'size': '0.001',\n",
              " 'positionStatus': 'Normal',\n",
              " 'mmrSysUpdatedTime': '',\n",
              " 'stopLoss': '',\n",
              " 'tradeMode': 0,\n",
              " 'sessionAvgPrice': ''}"
            ]
          },
          "execution_count": 27,
          "metadata": {},
          "output_type": "execute_result"
        }
      ],
      "source": [
        "bybit_test.get_long_hedge_mode_position_info(symbol='BTCUSDT')"
      ]
    }
  ],
  "metadata": {
    "kernelspec": {
      "display_name": "qfFree",
      "language": "python",
      "name": "python3"
    },
    "language_info": {
      "codemirror_mode": {
        "name": "ipython",
        "version": 3
      },
      "file_extension": ".py",
      "mimetype": "text/x-python",
      "name": "python",
      "nbconvert_exporter": "python",
      "pygments_lexer": "ipython3",
      "version": "3.10.10"
    },
    "orig_nbformat": 4
  },
  "nbformat": 4,
  "nbformat_minor": 2
}
